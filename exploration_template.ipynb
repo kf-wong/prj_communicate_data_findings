{
 "cells": [
  {
   "cell_type": "markdown",
   "metadata": {},
   "source": [
    "# Ford GoBike System Data Exploration (2018.01-2018.11)\n",
    "## by Kevin Wong\n",
    "\n",
    "## Preliminary Wrangling\n",
    "\n",
    "This document explores a dataset containing datetime, locations and other information of a bike-sharing system for approximately 519,699 trips' records in 2017."
   ]
  },
  {
   "cell_type": "code",
   "execution_count": 140,
   "metadata": {},
   "outputs": [],
   "source": [
    "# import all packages and set plots to be embedded inline\n",
    "import numpy as np\n",
    "import pandas as pd\n",
    "import matplotlib.pyplot as plt\n",
    "import seaborn as sb\n",
    "import datetime as dt\n",
    "\n",
    "%matplotlib inline"
   ]
  },
  {
   "cell_type": "markdown",
   "metadata": {},
   "source": [
    "> Load in your dataset and describe its properties through the questions below.\n",
    "Try and motivate your exploration goals through this section."
   ]
  },
  {
   "cell_type": "markdown",
   "metadata": {},
   "source": [
    "The dataset includes the trip data from Jan 2018 to Nov 2018. The reason of choosing these data are: (1) The data of Dec 2018 is not avaliable, so cannot include it. (2) The dataset of 2017 missed records from Jan 2017 to May 2017."
   ]
  },
  {
   "cell_type": "code",
   "execution_count": 141,
   "metadata": {
    "scrolled": true
   },
   "outputs": [],
   "source": [
    "# Load all data by month\n",
    "trip_201801 = pd.read_csv('dataset/201801-fordgobike-tripdata.csv')\n",
    "trip_201802 = pd.read_csv('dataset/201802-fordgobike-tripdata.csv')\n",
    "trip_201803 = pd.read_csv('dataset/201803-fordgobike-tripdata.csv')\n",
    "trip_201804 = pd.read_csv('dataset/201804-fordgobike-tripdata.csv')\n",
    "trip_201805 = pd.read_csv('dataset/201805-fordgobike-tripdata.csv')\n",
    "trip_201806 = pd.read_csv('dataset/201806-fordgobike-tripdata.csv')\n",
    "trip_201807 = pd.read_csv('dataset/201807-fordgobike-tripdata.csv')\n",
    "trip_201808 = pd.read_csv('dataset/201808-fordgobike-tripdata.csv')\n",
    "trip_201809 = pd.read_csv('dataset/201809-fordgobike-tripdata.csv')\n",
    "trip_201810 = pd.read_csv('dataset/201810-fordgobike-tripdata.csv')\n",
    "trip_201811 = pd.read_csv('dataset/201811-fordgobike-tripdata.csv')\n",
    "trip_list=[trip_201801,trip_201802,trip_201803,trip_201804,trip_201805,trip_201806,trip_201807,trip_201808,\n",
    "          trip_201809,trip_201810, trip_201811]\n",
    "# Concatenate above data\n",
    "trips = pd.concat(trip_list, ignore_index=True)"
   ]
  },
  {
   "cell_type": "code",
   "execution_count": 142,
   "metadata": {
    "scrolled": false
   },
   "outputs": [
    {
     "name": "stdout",
     "output_type": "stream",
     "text": [
      "<class 'pandas.core.frame.DataFrame'>\n",
      "RangeIndex: 1732358 entries, 0 to 1732357\n",
      "Data columns (total 16 columns):\n",
      "duration_sec               int64\n",
      "start_time                 object\n",
      "end_time                   object\n",
      "start_station_id           float64\n",
      "start_station_name         object\n",
      "start_station_latitude     float64\n",
      "start_station_longitude    float64\n",
      "end_station_id             float64\n",
      "end_station_name           object\n",
      "end_station_latitude       float64\n",
      "end_station_longitude      float64\n",
      "bike_id                    int64\n",
      "user_type                  object\n",
      "member_birth_year          float64\n",
      "member_gender              object\n",
      "bike_share_for_all_trip    object\n",
      "dtypes: float64(7), int64(2), object(7)\n",
      "memory usage: 211.5+ MB\n"
     ]
    },
    {
     "data": {
      "text/html": [
       "<div>\n",
       "<style scoped>\n",
       "    .dataframe tbody tr th:only-of-type {\n",
       "        vertical-align: middle;\n",
       "    }\n",
       "\n",
       "    .dataframe tbody tr th {\n",
       "        vertical-align: top;\n",
       "    }\n",
       "\n",
       "    .dataframe thead th {\n",
       "        text-align: right;\n",
       "    }\n",
       "</style>\n",
       "<table border=\"1\" class=\"dataframe\">\n",
       "  <thead>\n",
       "    <tr style=\"text-align: right;\">\n",
       "      <th></th>\n",
       "      <th>duration_sec</th>\n",
       "      <th>start_time</th>\n",
       "      <th>end_time</th>\n",
       "      <th>start_station_id</th>\n",
       "      <th>start_station_name</th>\n",
       "      <th>start_station_latitude</th>\n",
       "      <th>start_station_longitude</th>\n",
       "      <th>end_station_id</th>\n",
       "      <th>end_station_name</th>\n",
       "      <th>end_station_latitude</th>\n",
       "      <th>end_station_longitude</th>\n",
       "      <th>bike_id</th>\n",
       "      <th>user_type</th>\n",
       "      <th>member_birth_year</th>\n",
       "      <th>member_gender</th>\n",
       "      <th>bike_share_for_all_trip</th>\n",
       "    </tr>\n",
       "  </thead>\n",
       "  <tbody>\n",
       "    <tr>\n",
       "      <th>0</th>\n",
       "      <td>75284</td>\n",
       "      <td>2018-01-31 22:52:35.2390</td>\n",
       "      <td>2018-02-01 19:47:19.8240</td>\n",
       "      <td>120.0</td>\n",
       "      <td>Mission Dolores Park</td>\n",
       "      <td>37.761420</td>\n",
       "      <td>-122.426435</td>\n",
       "      <td>285.0</td>\n",
       "      <td>Webster St at O'Farrell St</td>\n",
       "      <td>37.783521</td>\n",
       "      <td>-122.431158</td>\n",
       "      <td>2765</td>\n",
       "      <td>Subscriber</td>\n",
       "      <td>1986.0</td>\n",
       "      <td>Male</td>\n",
       "      <td>No</td>\n",
       "    </tr>\n",
       "    <tr>\n",
       "      <th>1</th>\n",
       "      <td>85422</td>\n",
       "      <td>2018-01-31 16:13:34.3510</td>\n",
       "      <td>2018-02-01 15:57:17.3100</td>\n",
       "      <td>15.0</td>\n",
       "      <td>San Francisco Ferry Building (Harry Bridges Pl...</td>\n",
       "      <td>37.795392</td>\n",
       "      <td>-122.394203</td>\n",
       "      <td>15.0</td>\n",
       "      <td>San Francisco Ferry Building (Harry Bridges Pl...</td>\n",
       "      <td>37.795392</td>\n",
       "      <td>-122.394203</td>\n",
       "      <td>2815</td>\n",
       "      <td>Customer</td>\n",
       "      <td>NaN</td>\n",
       "      <td>NaN</td>\n",
       "      <td>No</td>\n",
       "    </tr>\n",
       "    <tr>\n",
       "      <th>2</th>\n",
       "      <td>71576</td>\n",
       "      <td>2018-01-31 14:23:55.8890</td>\n",
       "      <td>2018-02-01 10:16:52.1160</td>\n",
       "      <td>304.0</td>\n",
       "      <td>Jackson St at 5th St</td>\n",
       "      <td>37.348759</td>\n",
       "      <td>-121.894798</td>\n",
       "      <td>296.0</td>\n",
       "      <td>5th St at Virginia St</td>\n",
       "      <td>37.325998</td>\n",
       "      <td>-121.877120</td>\n",
       "      <td>3039</td>\n",
       "      <td>Customer</td>\n",
       "      <td>1996.0</td>\n",
       "      <td>Male</td>\n",
       "      <td>No</td>\n",
       "    </tr>\n",
       "    <tr>\n",
       "      <th>3</th>\n",
       "      <td>61076</td>\n",
       "      <td>2018-01-31 14:53:23.5620</td>\n",
       "      <td>2018-02-01 07:51:20.5000</td>\n",
       "      <td>75.0</td>\n",
       "      <td>Market St at Franklin St</td>\n",
       "      <td>37.773793</td>\n",
       "      <td>-122.421239</td>\n",
       "      <td>47.0</td>\n",
       "      <td>4th St at Harrison St</td>\n",
       "      <td>37.780955</td>\n",
       "      <td>-122.399749</td>\n",
       "      <td>321</td>\n",
       "      <td>Customer</td>\n",
       "      <td>NaN</td>\n",
       "      <td>NaN</td>\n",
       "      <td>No</td>\n",
       "    </tr>\n",
       "    <tr>\n",
       "      <th>4</th>\n",
       "      <td>39966</td>\n",
       "      <td>2018-01-31 19:52:24.6670</td>\n",
       "      <td>2018-02-01 06:58:31.0530</td>\n",
       "      <td>74.0</td>\n",
       "      <td>Laguna St at Hayes St</td>\n",
       "      <td>37.776435</td>\n",
       "      <td>-122.426244</td>\n",
       "      <td>19.0</td>\n",
       "      <td>Post St at Kearny St</td>\n",
       "      <td>37.788975</td>\n",
       "      <td>-122.403452</td>\n",
       "      <td>617</td>\n",
       "      <td>Subscriber</td>\n",
       "      <td>1991.0</td>\n",
       "      <td>Male</td>\n",
       "      <td>No</td>\n",
       "    </tr>\n",
       "  </tbody>\n",
       "</table>\n",
       "</div>"
      ],
      "text/plain": [
       "   duration_sec                start_time                  end_time  \\\n",
       "0         75284  2018-01-31 22:52:35.2390  2018-02-01 19:47:19.8240   \n",
       "1         85422  2018-01-31 16:13:34.3510  2018-02-01 15:57:17.3100   \n",
       "2         71576  2018-01-31 14:23:55.8890  2018-02-01 10:16:52.1160   \n",
       "3         61076  2018-01-31 14:53:23.5620  2018-02-01 07:51:20.5000   \n",
       "4         39966  2018-01-31 19:52:24.6670  2018-02-01 06:58:31.0530   \n",
       "\n",
       "   start_station_id                                 start_station_name  \\\n",
       "0             120.0                               Mission Dolores Park   \n",
       "1              15.0  San Francisco Ferry Building (Harry Bridges Pl...   \n",
       "2             304.0                               Jackson St at 5th St   \n",
       "3              75.0                           Market St at Franklin St   \n",
       "4              74.0                              Laguna St at Hayes St   \n",
       "\n",
       "   start_station_latitude  start_station_longitude  end_station_id  \\\n",
       "0               37.761420              -122.426435           285.0   \n",
       "1               37.795392              -122.394203            15.0   \n",
       "2               37.348759              -121.894798           296.0   \n",
       "3               37.773793              -122.421239            47.0   \n",
       "4               37.776435              -122.426244            19.0   \n",
       "\n",
       "                                    end_station_name  end_station_latitude  \\\n",
       "0                         Webster St at O'Farrell St             37.783521   \n",
       "1  San Francisco Ferry Building (Harry Bridges Pl...             37.795392   \n",
       "2                              5th St at Virginia St             37.325998   \n",
       "3                              4th St at Harrison St             37.780955   \n",
       "4                               Post St at Kearny St             37.788975   \n",
       "\n",
       "   end_station_longitude  bike_id   user_type  member_birth_year  \\\n",
       "0            -122.431158     2765  Subscriber             1986.0   \n",
       "1            -122.394203     2815    Customer                NaN   \n",
       "2            -121.877120     3039    Customer             1996.0   \n",
       "3            -122.399749      321    Customer                NaN   \n",
       "4            -122.403452      617  Subscriber             1991.0   \n",
       "\n",
       "  member_gender bike_share_for_all_trip  \n",
       "0          Male                      No  \n",
       "1           NaN                      No  \n",
       "2          Male                      No  \n",
       "3           NaN                      No  \n",
       "4          Male                      No  "
      ]
     },
     "execution_count": 142,
     "metadata": {},
     "output_type": "execute_result"
    }
   ],
   "source": [
    "trips.info()\n",
    "trips.head()"
   ]
  },
  {
   "cell_type": "code",
   "execution_count": 143,
   "metadata": {},
   "outputs": [
    {
     "data": {
      "text/html": [
       "<div>\n",
       "<style scoped>\n",
       "    .dataframe tbody tr th:only-of-type {\n",
       "        vertical-align: middle;\n",
       "    }\n",
       "\n",
       "    .dataframe tbody tr th {\n",
       "        vertical-align: top;\n",
       "    }\n",
       "\n",
       "    .dataframe thead th {\n",
       "        text-align: right;\n",
       "    }\n",
       "</style>\n",
       "<table border=\"1\" class=\"dataframe\">\n",
       "  <thead>\n",
       "    <tr style=\"text-align: right;\">\n",
       "      <th></th>\n",
       "      <th>duration_sec</th>\n",
       "      <th>start_station_id</th>\n",
       "      <th>start_station_latitude</th>\n",
       "      <th>start_station_longitude</th>\n",
       "      <th>end_station_id</th>\n",
       "      <th>end_station_latitude</th>\n",
       "      <th>end_station_longitude</th>\n",
       "      <th>bike_id</th>\n",
       "      <th>member_birth_year</th>\n",
       "    </tr>\n",
       "  </thead>\n",
       "  <tbody>\n",
       "    <tr>\n",
       "      <th>count</th>\n",
       "      <td>1.732358e+06</td>\n",
       "      <td>1.720779e+06</td>\n",
       "      <td>1.732358e+06</td>\n",
       "      <td>1.732358e+06</td>\n",
       "      <td>1.720779e+06</td>\n",
       "      <td>1.732358e+06</td>\n",
       "      <td>1.732358e+06</td>\n",
       "      <td>1.732358e+06</td>\n",
       "      <td>1.626651e+06</td>\n",
       "    </tr>\n",
       "    <tr>\n",
       "      <th>mean</th>\n",
       "      <td>8.638714e+02</td>\n",
       "      <td>1.187221e+02</td>\n",
       "      <td>3.776686e+01</td>\n",
       "      <td>-1.223491e+02</td>\n",
       "      <td>1.172679e+02</td>\n",
       "      <td>3.776698e+01</td>\n",
       "      <td>-1.223486e+02</td>\n",
       "      <td>2.230304e+03</td>\n",
       "      <td>1.983042e+03</td>\n",
       "    </tr>\n",
       "    <tr>\n",
       "      <th>std</th>\n",
       "      <td>2.410764e+03</td>\n",
       "      <td>9.958724e+01</td>\n",
       "      <td>1.056814e-01</td>\n",
       "      <td>1.681671e-01</td>\n",
       "      <td>9.965282e+01</td>\n",
       "      <td>1.055627e-01</td>\n",
       "      <td>1.677678e-01</td>\n",
       "      <td>1.225680e+03</td>\n",
       "      <td>1.043766e+01</td>\n",
       "    </tr>\n",
       "    <tr>\n",
       "      <th>min</th>\n",
       "      <td>6.100000e+01</td>\n",
       "      <td>3.000000e+00</td>\n",
       "      <td>3.726331e+01</td>\n",
       "      <td>-1.224737e+02</td>\n",
       "      <td>3.000000e+00</td>\n",
       "      <td>3.726331e+01</td>\n",
       "      <td>-1.224737e+02</td>\n",
       "      <td>1.100000e+01</td>\n",
       "      <td>1.881000e+03</td>\n",
       "    </tr>\n",
       "    <tr>\n",
       "      <th>25%</th>\n",
       "      <td>3.510000e+02</td>\n",
       "      <td>3.100000e+01</td>\n",
       "      <td>3.777106e+01</td>\n",
       "      <td>-1.224113e+02</td>\n",
       "      <td>3.000000e+01</td>\n",
       "      <td>3.777106e+01</td>\n",
       "      <td>-1.224094e+02</td>\n",
       "      <td>1.201000e+03</td>\n",
       "      <td>1.978000e+03</td>\n",
       "    </tr>\n",
       "    <tr>\n",
       "      <th>50%</th>\n",
       "      <td>5.570000e+02</td>\n",
       "      <td>8.800000e+01</td>\n",
       "      <td>3.778107e+01</td>\n",
       "      <td>-1.223974e+02</td>\n",
       "      <td>8.700000e+01</td>\n",
       "      <td>3.778127e+01</td>\n",
       "      <td>-1.223971e+02</td>\n",
       "      <td>2.293000e+03</td>\n",
       "      <td>1.985000e+03</td>\n",
       "    </tr>\n",
       "    <tr>\n",
       "      <th>75%</th>\n",
       "      <td>8.740000e+02</td>\n",
       "      <td>1.830000e+02</td>\n",
       "      <td>3.779625e+01</td>\n",
       "      <td>-1.222856e+02</td>\n",
       "      <td>1.830000e+02</td>\n",
       "      <td>3.779728e+01</td>\n",
       "      <td>-1.222887e+02</td>\n",
       "      <td>3.255000e+03</td>\n",
       "      <td>1.990000e+03</td>\n",
       "    </tr>\n",
       "    <tr>\n",
       "      <th>max</th>\n",
       "      <td>8.636600e+04</td>\n",
       "      <td>3.810000e+02</td>\n",
       "      <td>4.551000e+01</td>\n",
       "      <td>-7.357000e+01</td>\n",
       "      <td>3.810000e+02</td>\n",
       "      <td>4.551000e+01</td>\n",
       "      <td>-7.357000e+01</td>\n",
       "      <td>4.466000e+03</td>\n",
       "      <td>2.000000e+03</td>\n",
       "    </tr>\n",
       "  </tbody>\n",
       "</table>\n",
       "</div>"
      ],
      "text/plain": [
       "       duration_sec  start_station_id  start_station_latitude  \\\n",
       "count  1.732358e+06      1.720779e+06            1.732358e+06   \n",
       "mean   8.638714e+02      1.187221e+02            3.776686e+01   \n",
       "std    2.410764e+03      9.958724e+01            1.056814e-01   \n",
       "min    6.100000e+01      3.000000e+00            3.726331e+01   \n",
       "25%    3.510000e+02      3.100000e+01            3.777106e+01   \n",
       "50%    5.570000e+02      8.800000e+01            3.778107e+01   \n",
       "75%    8.740000e+02      1.830000e+02            3.779625e+01   \n",
       "max    8.636600e+04      3.810000e+02            4.551000e+01   \n",
       "\n",
       "       start_station_longitude  end_station_id  end_station_latitude  \\\n",
       "count             1.732358e+06    1.720779e+06          1.732358e+06   \n",
       "mean             -1.223491e+02    1.172679e+02          3.776698e+01   \n",
       "std               1.681671e-01    9.965282e+01          1.055627e-01   \n",
       "min              -1.224737e+02    3.000000e+00          3.726331e+01   \n",
       "25%              -1.224113e+02    3.000000e+01          3.777106e+01   \n",
       "50%              -1.223974e+02    8.700000e+01          3.778127e+01   \n",
       "75%              -1.222856e+02    1.830000e+02          3.779728e+01   \n",
       "max              -7.357000e+01    3.810000e+02          4.551000e+01   \n",
       "\n",
       "       end_station_longitude       bike_id  member_birth_year  \n",
       "count           1.732358e+06  1.732358e+06       1.626651e+06  \n",
       "mean           -1.223486e+02  2.230304e+03       1.983042e+03  \n",
       "std             1.677678e-01  1.225680e+03       1.043766e+01  \n",
       "min            -1.224737e+02  1.100000e+01       1.881000e+03  \n",
       "25%            -1.224094e+02  1.201000e+03       1.978000e+03  \n",
       "50%            -1.223971e+02  2.293000e+03       1.985000e+03  \n",
       "75%            -1.222887e+02  3.255000e+03       1.990000e+03  \n",
       "max            -7.357000e+01  4.466000e+03       2.000000e+03  "
      ]
     },
     "execution_count": 143,
     "metadata": {},
     "output_type": "execute_result"
    }
   ],
   "source": [
    "trips.describe()"
   ]
  },
  {
   "cell_type": "code",
   "execution_count": 144,
   "metadata": {
    "scrolled": false
   },
   "outputs": [
    {
     "data": {
      "text/plain": [
       "Male      1193210\n",
       "Female     408762\n",
       "Other       25030\n",
       "Name: member_gender, dtype: int64"
      ]
     },
     "execution_count": 144,
     "metadata": {},
     "output_type": "execute_result"
    }
   ],
   "source": [
    "trips.member_gender.value_counts()"
   ]
  },
  {
   "cell_type": "markdown",
   "metadata": {},
   "source": [
    "#### Clean Data"
   ]
  },
  {
   "cell_type": "code",
   "execution_count": 145,
   "metadata": {},
   "outputs": [],
   "source": [
    "trips_clean = trips.copy()"
   ]
  },
  {
   "cell_type": "code",
   "execution_count": 146,
   "metadata": {},
   "outputs": [],
   "source": [
    "# Convert the start_time and end_time to datetime type\n",
    "trips_clean['start_time'] = pd.to_datetime(trips_clean['start_time'])\n",
    "trips_clean['end_time'] = pd.to_datetime(trips_clean['end_time'])"
   ]
  },
  {
   "cell_type": "code",
   "execution_count": 147,
   "metadata": {},
   "outputs": [],
   "source": [
    "# Conver the user_type to categorical data type\n",
    "trips_clean['user_type'] = trips_clean['user_type'].astype('category')\n",
    "# Convert the member_gender to categorical data type\n",
    "trips_clean['member_gender'] = trips_clean['member_gender'].astype('category')"
   ]
  },
  {
   "cell_type": "code",
   "execution_count": 148,
   "metadata": {},
   "outputs": [],
   "source": [
    "# Convert the id columns (bike_id, start_station_id, end_station_id) to string\n",
    "trips_clean['bike_id'] = trips_clean['bike_id'].apply(lambda x: '{:.0f}'.format(x))\n",
    "trips_clean['start_station_id'] = trips_clean['start_station_id'].apply(lambda x: '{:.0f}'.format(x))\n",
    "trips_clean['end_station_id'] = trips_clean['end_station_id'].apply(lambda x: '{:.0f}'.format(x))"
   ]
  },
  {
   "cell_type": "code",
   "execution_count": 149,
   "metadata": {},
   "outputs": [],
   "source": [
    "# Define the key time for part of day \n",
    "six_am = dt.datetime.strptime('06:00:00.000','%H:%M:%S.%f').time()\n",
    "twelve_noon = dt.datetime.strptime('12:00:00.000','%H:%M:%S.%f').time()\n",
    "six_pm = dt.datetime.strptime('18:00:00.000','%H:%M:%S.%f').time()\n",
    "ten_pm = dt.datetime.strptime('22:00:00.000','%H:%M:%S.%f').time()\n",
    "twelve_night = dt.datetime.strptime('23:59:59.999','%H:%M:%S.%f').time()\n",
    "zero_am = dt.datetime.strptime('00:00:00.000','%H:%M:%S.%f').time()\n",
    "\n",
    "# Define function to get the part of day\n",
    "def get_day_part(dt):\n",
    "### Morning: 6am-12pm\n",
    "### Afternoon: 12pm-18pm\n",
    "### Evening: 18pm-22pm\n",
    "### Night: 22pm-6am\n",
    "    period=None\n",
    "    trip_time = dt.time()\n",
    "    #trip_time = datetime.strptime(str_datetime,'%Y-%m-%d %H:%M:%S.%f').time()\n",
    "    if trip_time>=six_am and trip_time<twelve_noon:\n",
    "        period='Morning'\n",
    "    elif trip_time>=twelve_noon and trip_time<six_pm:\n",
    "        period='Afternoon'\n",
    "    elif trip_time>=six_pm and trip_time<ten_pm:\n",
    "        period='Evening'\n",
    "    elif trip_time>=ten_pm and trip_time<=twelve_night:\n",
    "        period='Night'\n",
    "    elif trip_time>=zero_am and trip_time<six_am:\n",
    "        return 'Night'\n",
    "    return period"
   ]
  },
  {
   "cell_type": "code",
   "execution_count": 259,
   "metadata": {},
   "outputs": [],
   "source": [
    "def get_hour(dt):\n",
    "    return dt.time().strftime('%H')"
   ]
  },
  {
   "cell_type": "code",
   "execution_count": 150,
   "metadata": {},
   "outputs": [],
   "source": [
    "# Define function to get the day of week\n",
    "def get_weekday(dt):\n",
    "    return dt.date().strftime('%a')"
   ]
  },
  {
   "cell_type": "code",
   "execution_count": 151,
   "metadata": {},
   "outputs": [],
   "source": [
    "def get_month(dt):\n",
    "    return dt.date().strftime('%b')"
   ]
  },
  {
   "cell_type": "code",
   "execution_count": 260,
   "metadata": {},
   "outputs": [],
   "source": [
    "# Feature engineering: Add new column to get the part of day\n",
    "trips_clean['start_hour'] = trips_clean['start_time'].apply(get_hour)\n",
    "trips_clean['end_hour'] = trips_clean['end_time'].apply(get_hour)"
   ]
  },
  {
   "cell_type": "code",
   "execution_count": 153,
   "metadata": {},
   "outputs": [],
   "source": [
    "# Feature engineering: Add new column to calculate the day of week\n",
    "trips_clean['start_day_of_week'] = trips_clean['start_time'].apply(get_weekday)\n",
    "trips_clean['end_day_of_week'] = trips_clean['end_time'].apply(get_weekday)"
   ]
  },
  {
   "cell_type": "code",
   "execution_count": 154,
   "metadata": {},
   "outputs": [],
   "source": [
    "# Feature engineering: Add new column to calculate the month of year\n",
    "trips_clean['start_month'] = trips_clean['start_time'].apply(get_month)\n",
    "trips_clean['end_month'] = trips_clean['end_time'].apply(get_month)"
   ]
  },
  {
   "cell_type": "code",
   "execution_count": 155,
   "metadata": {},
   "outputs": [],
   "source": [
    "# Conver the start_part_of_day and end_part_of_day to categorical data type\n",
    "trips_clean['start_part_of_day'] = trips_clean['start_part_of_day'].astype('category')\n",
    "trips_clean['end_part_of_day'] = trips_clean['end_part_of_day'].astype('category')\n",
    "# Convert the start_day_of_week and end_day_of_week to categorical data type\n",
    "trips_clean['start_day_of_week'] = trips_clean['start_day_of_week'].astype('category')\n",
    "trips_clean['end_day_of_week'] = trips_clean['end_day_of_week'].astype('category')"
   ]
  },
  {
   "cell_type": "code",
   "execution_count": 156,
   "metadata": {},
   "outputs": [],
   "source": [
    "# Conver the start_part_of_day and end_part_of_day to categorical data type\n",
    "# Convert the start_day_of_week and end_day_of_week to categorical data type\n",
    "ordinal_var_dict = {'part_of_day': ['Morning','Afternoon','Evening','Night'],\n",
    "                    'day_of_week': ['Mon','Tue','Wed','Thu','Fri','Sat','Sun'],\n",
    "                    'month':['Jan','Feb','Mar','Apr','May','Jun','Jul','Aug','Sep','Oct','Nov']}\n",
    "\n",
    "for var in ordinal_var_dict:\n",
    "    ordered_var = pd.api.types.CategoricalDtype(ordered = True,\n",
    "                                                categories = ordinal_var_dict[var])\n",
    "    trips_clean['start_'+var] = trips_clean['start_'+var].astype(ordered_var)\n",
    "    trips_clean['end_'+var] = trips_clean['end_'+var].astype(ordered_var)"
   ]
  },
  {
   "cell_type": "code",
   "execution_count": 157,
   "metadata": {
    "scrolled": false
   },
   "outputs": [
    {
     "name": "stdout",
     "output_type": "stream",
     "text": [
      "<class 'pandas.core.frame.DataFrame'>\n",
      "RangeIndex: 1732358 entries, 0 to 1732357\n",
      "Data columns (total 22 columns):\n",
      "duration_sec               int64\n",
      "start_time                 datetime64[ns]\n",
      "end_time                   datetime64[ns]\n",
      "start_station_id           object\n",
      "start_station_name         object\n",
      "start_station_latitude     float64\n",
      "start_station_longitude    float64\n",
      "end_station_id             object\n",
      "end_station_name           object\n",
      "end_station_latitude       float64\n",
      "end_station_longitude      float64\n",
      "bike_id                    object\n",
      "user_type                  category\n",
      "member_birth_year          float64\n",
      "member_gender              category\n",
      "bike_share_for_all_trip    object\n",
      "start_part_of_day          category\n",
      "end_part_of_day            category\n",
      "start_day_of_week          category\n",
      "end_day_of_week            category\n",
      "start_month                category\n",
      "end_month                  category\n",
      "dtypes: category(8), datetime64[ns](2), float64(5), int64(1), object(6)\n",
      "memory usage: 198.3+ MB\n"
     ]
    }
   ],
   "source": [
    "trips_clean.info()"
   ]
  },
  {
   "cell_type": "code",
   "execution_count": 158,
   "metadata": {
    "scrolled": true
   },
   "outputs": [
    {
     "data": {
      "text/html": [
       "<div>\n",
       "<style scoped>\n",
       "    .dataframe tbody tr th:only-of-type {\n",
       "        vertical-align: middle;\n",
       "    }\n",
       "\n",
       "    .dataframe tbody tr th {\n",
       "        vertical-align: top;\n",
       "    }\n",
       "\n",
       "    .dataframe thead th {\n",
       "        text-align: right;\n",
       "    }\n",
       "</style>\n",
       "<table border=\"1\" class=\"dataframe\">\n",
       "  <thead>\n",
       "    <tr style=\"text-align: right;\">\n",
       "      <th></th>\n",
       "      <th>duration_sec</th>\n",
       "      <th>start_time</th>\n",
       "      <th>end_time</th>\n",
       "      <th>start_station_id</th>\n",
       "      <th>start_station_name</th>\n",
       "      <th>start_station_latitude</th>\n",
       "      <th>start_station_longitude</th>\n",
       "      <th>end_station_id</th>\n",
       "      <th>end_station_name</th>\n",
       "      <th>end_station_latitude</th>\n",
       "      <th>...</th>\n",
       "      <th>user_type</th>\n",
       "      <th>member_birth_year</th>\n",
       "      <th>member_gender</th>\n",
       "      <th>bike_share_for_all_trip</th>\n",
       "      <th>start_part_of_day</th>\n",
       "      <th>end_part_of_day</th>\n",
       "      <th>start_day_of_week</th>\n",
       "      <th>end_day_of_week</th>\n",
       "      <th>start_month</th>\n",
       "      <th>end_month</th>\n",
       "    </tr>\n",
       "  </thead>\n",
       "  <tbody>\n",
       "    <tr>\n",
       "      <th>0</th>\n",
       "      <td>75284</td>\n",
       "      <td>2018-01-31 22:52:35.239</td>\n",
       "      <td>2018-02-01 19:47:19.824</td>\n",
       "      <td>120</td>\n",
       "      <td>Mission Dolores Park</td>\n",
       "      <td>37.761420</td>\n",
       "      <td>-122.426435</td>\n",
       "      <td>285</td>\n",
       "      <td>Webster St at O'Farrell St</td>\n",
       "      <td>37.783521</td>\n",
       "      <td>...</td>\n",
       "      <td>Subscriber</td>\n",
       "      <td>1986.0</td>\n",
       "      <td>Male</td>\n",
       "      <td>No</td>\n",
       "      <td>Night</td>\n",
       "      <td>Evening</td>\n",
       "      <td>Wed</td>\n",
       "      <td>Thu</td>\n",
       "      <td>Jan</td>\n",
       "      <td>Feb</td>\n",
       "    </tr>\n",
       "    <tr>\n",
       "      <th>1</th>\n",
       "      <td>85422</td>\n",
       "      <td>2018-01-31 16:13:34.351</td>\n",
       "      <td>2018-02-01 15:57:17.310</td>\n",
       "      <td>15</td>\n",
       "      <td>San Francisco Ferry Building (Harry Bridges Pl...</td>\n",
       "      <td>37.795392</td>\n",
       "      <td>-122.394203</td>\n",
       "      <td>15</td>\n",
       "      <td>San Francisco Ferry Building (Harry Bridges Pl...</td>\n",
       "      <td>37.795392</td>\n",
       "      <td>...</td>\n",
       "      <td>Customer</td>\n",
       "      <td>NaN</td>\n",
       "      <td>NaN</td>\n",
       "      <td>No</td>\n",
       "      <td>Afternoon</td>\n",
       "      <td>Afternoon</td>\n",
       "      <td>Wed</td>\n",
       "      <td>Thu</td>\n",
       "      <td>Jan</td>\n",
       "      <td>Feb</td>\n",
       "    </tr>\n",
       "    <tr>\n",
       "      <th>2</th>\n",
       "      <td>71576</td>\n",
       "      <td>2018-01-31 14:23:55.889</td>\n",
       "      <td>2018-02-01 10:16:52.116</td>\n",
       "      <td>304</td>\n",
       "      <td>Jackson St at 5th St</td>\n",
       "      <td>37.348759</td>\n",
       "      <td>-121.894798</td>\n",
       "      <td>296</td>\n",
       "      <td>5th St at Virginia St</td>\n",
       "      <td>37.325998</td>\n",
       "      <td>...</td>\n",
       "      <td>Customer</td>\n",
       "      <td>1996.0</td>\n",
       "      <td>Male</td>\n",
       "      <td>No</td>\n",
       "      <td>Afternoon</td>\n",
       "      <td>Morning</td>\n",
       "      <td>Wed</td>\n",
       "      <td>Thu</td>\n",
       "      <td>Jan</td>\n",
       "      <td>Feb</td>\n",
       "    </tr>\n",
       "    <tr>\n",
       "      <th>3</th>\n",
       "      <td>61076</td>\n",
       "      <td>2018-01-31 14:53:23.562</td>\n",
       "      <td>2018-02-01 07:51:20.500</td>\n",
       "      <td>75</td>\n",
       "      <td>Market St at Franklin St</td>\n",
       "      <td>37.773793</td>\n",
       "      <td>-122.421239</td>\n",
       "      <td>47</td>\n",
       "      <td>4th St at Harrison St</td>\n",
       "      <td>37.780955</td>\n",
       "      <td>...</td>\n",
       "      <td>Customer</td>\n",
       "      <td>NaN</td>\n",
       "      <td>NaN</td>\n",
       "      <td>No</td>\n",
       "      <td>Afternoon</td>\n",
       "      <td>Morning</td>\n",
       "      <td>Wed</td>\n",
       "      <td>Thu</td>\n",
       "      <td>Jan</td>\n",
       "      <td>Feb</td>\n",
       "    </tr>\n",
       "    <tr>\n",
       "      <th>4</th>\n",
       "      <td>39966</td>\n",
       "      <td>2018-01-31 19:52:24.667</td>\n",
       "      <td>2018-02-01 06:58:31.053</td>\n",
       "      <td>74</td>\n",
       "      <td>Laguna St at Hayes St</td>\n",
       "      <td>37.776435</td>\n",
       "      <td>-122.426244</td>\n",
       "      <td>19</td>\n",
       "      <td>Post St at Kearny St</td>\n",
       "      <td>37.788975</td>\n",
       "      <td>...</td>\n",
       "      <td>Subscriber</td>\n",
       "      <td>1991.0</td>\n",
       "      <td>Male</td>\n",
       "      <td>No</td>\n",
       "      <td>Evening</td>\n",
       "      <td>Morning</td>\n",
       "      <td>Wed</td>\n",
       "      <td>Thu</td>\n",
       "      <td>Jan</td>\n",
       "      <td>Feb</td>\n",
       "    </tr>\n",
       "  </tbody>\n",
       "</table>\n",
       "<p>5 rows × 22 columns</p>\n",
       "</div>"
      ],
      "text/plain": [
       "   duration_sec              start_time                end_time  \\\n",
       "0         75284 2018-01-31 22:52:35.239 2018-02-01 19:47:19.824   \n",
       "1         85422 2018-01-31 16:13:34.351 2018-02-01 15:57:17.310   \n",
       "2         71576 2018-01-31 14:23:55.889 2018-02-01 10:16:52.116   \n",
       "3         61076 2018-01-31 14:53:23.562 2018-02-01 07:51:20.500   \n",
       "4         39966 2018-01-31 19:52:24.667 2018-02-01 06:58:31.053   \n",
       "\n",
       "  start_station_id                                 start_station_name  \\\n",
       "0              120                               Mission Dolores Park   \n",
       "1               15  San Francisco Ferry Building (Harry Bridges Pl...   \n",
       "2              304                               Jackson St at 5th St   \n",
       "3               75                           Market St at Franklin St   \n",
       "4               74                              Laguna St at Hayes St   \n",
       "\n",
       "   start_station_latitude  start_station_longitude end_station_id  \\\n",
       "0               37.761420              -122.426435            285   \n",
       "1               37.795392              -122.394203             15   \n",
       "2               37.348759              -121.894798            296   \n",
       "3               37.773793              -122.421239             47   \n",
       "4               37.776435              -122.426244             19   \n",
       "\n",
       "                                    end_station_name  end_station_latitude  \\\n",
       "0                         Webster St at O'Farrell St             37.783521   \n",
       "1  San Francisco Ferry Building (Harry Bridges Pl...             37.795392   \n",
       "2                              5th St at Virginia St             37.325998   \n",
       "3                              4th St at Harrison St             37.780955   \n",
       "4                               Post St at Kearny St             37.788975   \n",
       "\n",
       "     ...      user_type member_birth_year member_gender  \\\n",
       "0    ...     Subscriber            1986.0          Male   \n",
       "1    ...       Customer               NaN           NaN   \n",
       "2    ...       Customer            1996.0          Male   \n",
       "3    ...       Customer               NaN           NaN   \n",
       "4    ...     Subscriber            1991.0          Male   \n",
       "\n",
       "   bike_share_for_all_trip start_part_of_day end_part_of_day  \\\n",
       "0                       No             Night         Evening   \n",
       "1                       No         Afternoon       Afternoon   \n",
       "2                       No         Afternoon         Morning   \n",
       "3                       No         Afternoon         Morning   \n",
       "4                       No           Evening         Morning   \n",
       "\n",
       "  start_day_of_week end_day_of_week start_month end_month  \n",
       "0               Wed             Thu         Jan       Feb  \n",
       "1               Wed             Thu         Jan       Feb  \n",
       "2               Wed             Thu         Jan       Feb  \n",
       "3               Wed             Thu         Jan       Feb  \n",
       "4               Wed             Thu         Jan       Feb  \n",
       "\n",
       "[5 rows x 22 columns]"
      ]
     },
     "execution_count": 158,
     "metadata": {},
     "output_type": "execute_result"
    }
   ],
   "source": [
    "trips_clean.head()"
   ]
  },
  {
   "cell_type": "markdown",
   "metadata": {},
   "source": [
    "The start_time should be ealier than the end_time, so the records that end_time-start_time>0 will be swapped the values of start_time and end_time.\n",
    "\n",
    "As the duration_sec = end_time-start_time (in seconds), new column is addd to calculate the true duration and compare with the original duration_sec."
   ]
  },
  {
   "cell_type": "code",
   "execution_count": 159,
   "metadata": {},
   "outputs": [
    {
     "data": {
      "text/html": [
       "<div>\n",
       "<style scoped>\n",
       "    .dataframe tbody tr th:only-of-type {\n",
       "        vertical-align: middle;\n",
       "    }\n",
       "\n",
       "    .dataframe tbody tr th {\n",
       "        vertical-align: top;\n",
       "    }\n",
       "\n",
       "    .dataframe thead th {\n",
       "        text-align: right;\n",
       "    }\n",
       "</style>\n",
       "<table border=\"1\" class=\"dataframe\">\n",
       "  <thead>\n",
       "    <tr style=\"text-align: right;\">\n",
       "      <th></th>\n",
       "      <th>duration_sec</th>\n",
       "      <th>start_time</th>\n",
       "      <th>end_time</th>\n",
       "      <th>start_station_id</th>\n",
       "      <th>start_station_name</th>\n",
       "      <th>start_station_latitude</th>\n",
       "      <th>start_station_longitude</th>\n",
       "      <th>end_station_id</th>\n",
       "      <th>end_station_name</th>\n",
       "      <th>end_station_latitude</th>\n",
       "      <th>...</th>\n",
       "      <th>user_type</th>\n",
       "      <th>member_birth_year</th>\n",
       "      <th>member_gender</th>\n",
       "      <th>bike_share_for_all_trip</th>\n",
       "      <th>start_part_of_day</th>\n",
       "      <th>end_part_of_day</th>\n",
       "      <th>start_day_of_week</th>\n",
       "      <th>end_day_of_week</th>\n",
       "      <th>start_month</th>\n",
       "      <th>end_month</th>\n",
       "    </tr>\n",
       "  </thead>\n",
       "  <tbody>\n",
       "  </tbody>\n",
       "</table>\n",
       "<p>0 rows × 22 columns</p>\n",
       "</div>"
      ],
      "text/plain": [
       "Empty DataFrame\n",
       "Columns: [duration_sec, start_time, end_time, start_station_id, start_station_name, start_station_latitude, start_station_longitude, end_station_id, end_station_name, end_station_latitude, end_station_longitude, bike_id, user_type, member_birth_year, member_gender, bike_share_for_all_trip, start_part_of_day, end_part_of_day, start_day_of_week, end_day_of_week, start_month, end_month]\n",
       "Index: []\n",
       "\n",
       "[0 rows x 22 columns]"
      ]
     },
     "execution_count": 159,
     "metadata": {},
     "output_type": "execute_result"
    }
   ],
   "source": [
    "for i, row in trips_clean.query('start_time>end_time').iterrows():\n",
    "    trips_clean.loc[i,['start_time','end_time']] = trips_clean.loc[i,['end_time','start_time']].values\n",
    "trips_clean.query('start_time>end_time')    "
   ]
  },
  {
   "cell_type": "code",
   "execution_count": 160,
   "metadata": {
    "scrolled": true
   },
   "outputs": [],
   "source": [
    "trips_clean['calc_dur_sec'] = trips_clean.apply(lambda r: (r.end_time-r.start_time).seconds, axis=1)"
   ]
  },
  {
   "cell_type": "code",
   "execution_count": 161,
   "metadata": {
    "scrolled": false
   },
   "outputs": [
    {
     "data": {
      "text/html": [
       "<div>\n",
       "<style scoped>\n",
       "    .dataframe tbody tr th:only-of-type {\n",
       "        vertical-align: middle;\n",
       "    }\n",
       "\n",
       "    .dataframe tbody tr th {\n",
       "        vertical-align: top;\n",
       "    }\n",
       "\n",
       "    .dataframe thead th {\n",
       "        text-align: right;\n",
       "    }\n",
       "</style>\n",
       "<table border=\"1\" class=\"dataframe\">\n",
       "  <thead>\n",
       "    <tr style=\"text-align: right;\">\n",
       "      <th></th>\n",
       "      <th>duration_sec</th>\n",
       "      <th>calc_dur_sec</th>\n",
       "      <th>start_time</th>\n",
       "      <th>end_time</th>\n",
       "    </tr>\n",
       "  </thead>\n",
       "  <tbody>\n",
       "    <tr>\n",
       "      <th>277550</th>\n",
       "      <td>69644</td>\n",
       "      <td>73244</td>\n",
       "      <td>2018-03-10 17:58:27.657</td>\n",
       "      <td>2018-03-11 14:19:11.801</td>\n",
       "    </tr>\n",
       "    <tr>\n",
       "      <th>277635</th>\n",
       "      <td>75209</td>\n",
       "      <td>78809</td>\n",
       "      <td>2018-03-10 15:56:52.488</td>\n",
       "      <td>2018-03-11 13:50:21.970</td>\n",
       "    </tr>\n",
       "    <tr>\n",
       "      <th>277666</th>\n",
       "      <td>44670</td>\n",
       "      <td>48270</td>\n",
       "      <td>2018-03-11 00:19:40.186</td>\n",
       "      <td>2018-03-11 13:44:10.895</td>\n",
       "    </tr>\n",
       "    <tr>\n",
       "      <th>278147</th>\n",
       "      <td>75581</td>\n",
       "      <td>79181</td>\n",
       "      <td>2018-03-10 12:34:57.531</td>\n",
       "      <td>2018-03-11 10:34:39.424</td>\n",
       "    </tr>\n",
       "    <tr>\n",
       "      <th>278148</th>\n",
       "      <td>75603</td>\n",
       "      <td>79203</td>\n",
       "      <td>2018-03-10 12:34:13.752</td>\n",
       "      <td>2018-03-11 10:34:17.605</td>\n",
       "    </tr>\n",
       "    <tr>\n",
       "      <th>278149</th>\n",
       "      <td>75533</td>\n",
       "      <td>79133</td>\n",
       "      <td>2018-03-10 12:35:23.602</td>\n",
       "      <td>2018-03-11 10:34:17.411</td>\n",
       "    </tr>\n",
       "    <tr>\n",
       "      <th>278348</th>\n",
       "      <td>1792</td>\n",
       "      <td>5392</td>\n",
       "      <td>2018-03-11 01:50:20.870</td>\n",
       "      <td>2018-03-11 03:20:13.127</td>\n",
       "    </tr>\n",
       "    <tr>\n",
       "      <th>278350</th>\n",
       "      <td>3619</td>\n",
       "      <td>7219</td>\n",
       "      <td>2018-03-11 01:10:13.249</td>\n",
       "      <td>2018-03-11 03:10:33.213</td>\n",
       "    </tr>\n",
       "    <tr>\n",
       "      <th>1712595</th>\n",
       "      <td>80379</td>\n",
       "      <td>76779</td>\n",
       "      <td>2018-11-03 14:53:50.222</td>\n",
       "      <td>2018-11-04 12:13:29.636</td>\n",
       "    </tr>\n",
       "    <tr>\n",
       "      <th>1712878</th>\n",
       "      <td>66715</td>\n",
       "      <td>63115</td>\n",
       "      <td>2018-11-03 17:47:11.376</td>\n",
       "      <td>2018-11-04 11:19:06.909</td>\n",
       "    </tr>\n",
       "    <tr>\n",
       "      <th>1713565</th>\n",
       "      <td>53093</td>\n",
       "      <td>49493</td>\n",
       "      <td>2018-11-03 16:53:28.147</td>\n",
       "      <td>2018-11-04 06:38:21.429</td>\n",
       "    </tr>\n",
       "    <tr>\n",
       "      <th>1713581</th>\n",
       "      <td>50735</td>\n",
       "      <td>47135</td>\n",
       "      <td>2018-11-03 16:42:51.773</td>\n",
       "      <td>2018-11-04 05:48:27.561</td>\n",
       "    </tr>\n",
       "    <tr>\n",
       "      <th>1713617</th>\n",
       "      <td>30892</td>\n",
       "      <td>27292</td>\n",
       "      <td>2018-11-03 18:22:14.829</td>\n",
       "      <td>2018-11-04 01:57:06.950</td>\n",
       "    </tr>\n",
       "    <tr>\n",
       "      <th>1713638</th>\n",
       "      <td>475</td>\n",
       "      <td>3124</td>\n",
       "      <td>2018-11-04 01:07:50.610</td>\n",
       "      <td>2018-11-04 01:59:54.978</td>\n",
       "    </tr>\n",
       "    <tr>\n",
       "      <th>1713639</th>\n",
       "      <td>956</td>\n",
       "      <td>2643</td>\n",
       "      <td>2018-11-04 01:06:56.722</td>\n",
       "      <td>2018-11-04 01:51:00.396</td>\n",
       "    </tr>\n",
       "    <tr>\n",
       "      <th>1713640</th>\n",
       "      <td>878</td>\n",
       "      <td>2721</td>\n",
       "      <td>2018-11-04 01:02:58.882</td>\n",
       "      <td>2018-11-04 01:48:20.009</td>\n",
       "    </tr>\n",
       "    <tr>\n",
       "      <th>1713641</th>\n",
       "      <td>226</td>\n",
       "      <td>3373</td>\n",
       "      <td>2018-11-04 01:02:48.804</td>\n",
       "      <td>2018-11-04 01:59:01.906</td>\n",
       "    </tr>\n",
       "    <tr>\n",
       "      <th>1713642</th>\n",
       "      <td>586</td>\n",
       "      <td>3013</td>\n",
       "      <td>2018-11-04 01:02:27.156</td>\n",
       "      <td>2018-11-04 01:52:40.494</td>\n",
       "    </tr>\n",
       "    <tr>\n",
       "      <th>1713643</th>\n",
       "      <td>170</td>\n",
       "      <td>3429</td>\n",
       "      <td>2018-11-04 01:01:38.215</td>\n",
       "      <td>2018-11-04 01:58:47.745</td>\n",
       "    </tr>\n",
       "  </tbody>\n",
       "</table>\n",
       "</div>"
      ],
      "text/plain": [
       "         duration_sec  calc_dur_sec              start_time  \\\n",
       "277550          69644         73244 2018-03-10 17:58:27.657   \n",
       "277635          75209         78809 2018-03-10 15:56:52.488   \n",
       "277666          44670         48270 2018-03-11 00:19:40.186   \n",
       "278147          75581         79181 2018-03-10 12:34:57.531   \n",
       "278148          75603         79203 2018-03-10 12:34:13.752   \n",
       "278149          75533         79133 2018-03-10 12:35:23.602   \n",
       "278348           1792          5392 2018-03-11 01:50:20.870   \n",
       "278350           3619          7219 2018-03-11 01:10:13.249   \n",
       "1712595         80379         76779 2018-11-03 14:53:50.222   \n",
       "1712878         66715         63115 2018-11-03 17:47:11.376   \n",
       "1713565         53093         49493 2018-11-03 16:53:28.147   \n",
       "1713581         50735         47135 2018-11-03 16:42:51.773   \n",
       "1713617         30892         27292 2018-11-03 18:22:14.829   \n",
       "1713638           475          3124 2018-11-04 01:07:50.610   \n",
       "1713639           956          2643 2018-11-04 01:06:56.722   \n",
       "1713640           878          2721 2018-11-04 01:02:58.882   \n",
       "1713641           226          3373 2018-11-04 01:02:48.804   \n",
       "1713642           586          3013 2018-11-04 01:02:27.156   \n",
       "1713643           170          3429 2018-11-04 01:01:38.215   \n",
       "\n",
       "                       end_time  \n",
       "277550  2018-03-11 14:19:11.801  \n",
       "277635  2018-03-11 13:50:21.970  \n",
       "277666  2018-03-11 13:44:10.895  \n",
       "278147  2018-03-11 10:34:39.424  \n",
       "278148  2018-03-11 10:34:17.605  \n",
       "278149  2018-03-11 10:34:17.411  \n",
       "278348  2018-03-11 03:20:13.127  \n",
       "278350  2018-03-11 03:10:33.213  \n",
       "1712595 2018-11-04 12:13:29.636  \n",
       "1712878 2018-11-04 11:19:06.909  \n",
       "1713565 2018-11-04 06:38:21.429  \n",
       "1713581 2018-11-04 05:48:27.561  \n",
       "1713617 2018-11-04 01:57:06.950  \n",
       "1713638 2018-11-04 01:59:54.978  \n",
       "1713639 2018-11-04 01:51:00.396  \n",
       "1713640 2018-11-04 01:48:20.009  \n",
       "1713641 2018-11-04 01:59:01.906  \n",
       "1713642 2018-11-04 01:52:40.494  \n",
       "1713643 2018-11-04 01:58:47.745  "
      ]
     },
     "execution_count": 161,
     "metadata": {},
     "output_type": "execute_result"
    }
   ],
   "source": [
    "# Check the records which the duration_sec not equal to the calc_dur_sec\n",
    "trips_clean.query('duration_sec!=calc_dur_sec')[['duration_sec','calc_dur_sec','start_time','end_time']]"
   ]
  },
  {
   "cell_type": "code",
   "execution_count": 163,
   "metadata": {},
   "outputs": [],
   "source": [
    "# copy the calc_dur_sec value to duration_sec\n",
    "trips_clean['duration_sec'] = trips_clean['calc_dur_sec']\n",
    "trips_clean.query('duration_sec!=calc_dur_sec')\n",
    "trips_clean.drop(columns=['calc_dur_sec'], inplace=True)"
   ]
  },
  {
   "cell_type": "code",
   "execution_count": 164,
   "metadata": {
    "scrolled": true
   },
   "outputs": [
    {
     "data": {
      "text/html": [
       "<div>\n",
       "<style scoped>\n",
       "    .dataframe tbody tr th:only-of-type {\n",
       "        vertical-align: middle;\n",
       "    }\n",
       "\n",
       "    .dataframe tbody tr th {\n",
       "        vertical-align: top;\n",
       "    }\n",
       "\n",
       "    .dataframe thead th {\n",
       "        text-align: right;\n",
       "    }\n",
       "</style>\n",
       "<table border=\"1\" class=\"dataframe\">\n",
       "  <thead>\n",
       "    <tr style=\"text-align: right;\">\n",
       "      <th></th>\n",
       "      <th>duration_sec</th>\n",
       "      <th>start_time</th>\n",
       "      <th>end_time</th>\n",
       "      <th>start_station_id</th>\n",
       "      <th>start_station_name</th>\n",
       "      <th>start_station_latitude</th>\n",
       "      <th>start_station_longitude</th>\n",
       "      <th>end_station_id</th>\n",
       "      <th>end_station_name</th>\n",
       "      <th>end_station_latitude</th>\n",
       "      <th>...</th>\n",
       "      <th>user_type</th>\n",
       "      <th>member_birth_year</th>\n",
       "      <th>member_gender</th>\n",
       "      <th>bike_share_for_all_trip</th>\n",
       "      <th>start_part_of_day</th>\n",
       "      <th>end_part_of_day</th>\n",
       "      <th>start_day_of_week</th>\n",
       "      <th>end_day_of_week</th>\n",
       "      <th>start_month</th>\n",
       "      <th>end_month</th>\n",
       "    </tr>\n",
       "  </thead>\n",
       "  <tbody>\n",
       "    <tr>\n",
       "      <th>0</th>\n",
       "      <td>75284</td>\n",
       "      <td>2018-01-31 22:52:35.239</td>\n",
       "      <td>2018-02-01 19:47:19.824</td>\n",
       "      <td>120</td>\n",
       "      <td>Mission Dolores Park</td>\n",
       "      <td>37.761420</td>\n",
       "      <td>-122.426435</td>\n",
       "      <td>285</td>\n",
       "      <td>Webster St at O'Farrell St</td>\n",
       "      <td>37.783521</td>\n",
       "      <td>...</td>\n",
       "      <td>Subscriber</td>\n",
       "      <td>1986.0</td>\n",
       "      <td>Male</td>\n",
       "      <td>No</td>\n",
       "      <td>Night</td>\n",
       "      <td>Evening</td>\n",
       "      <td>Wed</td>\n",
       "      <td>Thu</td>\n",
       "      <td>Jan</td>\n",
       "      <td>Feb</td>\n",
       "    </tr>\n",
       "    <tr>\n",
       "      <th>1</th>\n",
       "      <td>85422</td>\n",
       "      <td>2018-01-31 16:13:34.351</td>\n",
       "      <td>2018-02-01 15:57:17.310</td>\n",
       "      <td>15</td>\n",
       "      <td>San Francisco Ferry Building (Harry Bridges Pl...</td>\n",
       "      <td>37.795392</td>\n",
       "      <td>-122.394203</td>\n",
       "      <td>15</td>\n",
       "      <td>San Francisco Ferry Building (Harry Bridges Pl...</td>\n",
       "      <td>37.795392</td>\n",
       "      <td>...</td>\n",
       "      <td>Customer</td>\n",
       "      <td>NaN</td>\n",
       "      <td>NaN</td>\n",
       "      <td>No</td>\n",
       "      <td>Afternoon</td>\n",
       "      <td>Afternoon</td>\n",
       "      <td>Wed</td>\n",
       "      <td>Thu</td>\n",
       "      <td>Jan</td>\n",
       "      <td>Feb</td>\n",
       "    </tr>\n",
       "    <tr>\n",
       "      <th>2</th>\n",
       "      <td>71576</td>\n",
       "      <td>2018-01-31 14:23:55.889</td>\n",
       "      <td>2018-02-01 10:16:52.116</td>\n",
       "      <td>304</td>\n",
       "      <td>Jackson St at 5th St</td>\n",
       "      <td>37.348759</td>\n",
       "      <td>-121.894798</td>\n",
       "      <td>296</td>\n",
       "      <td>5th St at Virginia St</td>\n",
       "      <td>37.325998</td>\n",
       "      <td>...</td>\n",
       "      <td>Customer</td>\n",
       "      <td>1996.0</td>\n",
       "      <td>Male</td>\n",
       "      <td>No</td>\n",
       "      <td>Afternoon</td>\n",
       "      <td>Morning</td>\n",
       "      <td>Wed</td>\n",
       "      <td>Thu</td>\n",
       "      <td>Jan</td>\n",
       "      <td>Feb</td>\n",
       "    </tr>\n",
       "    <tr>\n",
       "      <th>3</th>\n",
       "      <td>61076</td>\n",
       "      <td>2018-01-31 14:53:23.562</td>\n",
       "      <td>2018-02-01 07:51:20.500</td>\n",
       "      <td>75</td>\n",
       "      <td>Market St at Franklin St</td>\n",
       "      <td>37.773793</td>\n",
       "      <td>-122.421239</td>\n",
       "      <td>47</td>\n",
       "      <td>4th St at Harrison St</td>\n",
       "      <td>37.780955</td>\n",
       "      <td>...</td>\n",
       "      <td>Customer</td>\n",
       "      <td>NaN</td>\n",
       "      <td>NaN</td>\n",
       "      <td>No</td>\n",
       "      <td>Afternoon</td>\n",
       "      <td>Morning</td>\n",
       "      <td>Wed</td>\n",
       "      <td>Thu</td>\n",
       "      <td>Jan</td>\n",
       "      <td>Feb</td>\n",
       "    </tr>\n",
       "    <tr>\n",
       "      <th>4</th>\n",
       "      <td>39966</td>\n",
       "      <td>2018-01-31 19:52:24.667</td>\n",
       "      <td>2018-02-01 06:58:31.053</td>\n",
       "      <td>74</td>\n",
       "      <td>Laguna St at Hayes St</td>\n",
       "      <td>37.776435</td>\n",
       "      <td>-122.426244</td>\n",
       "      <td>19</td>\n",
       "      <td>Post St at Kearny St</td>\n",
       "      <td>37.788975</td>\n",
       "      <td>...</td>\n",
       "      <td>Subscriber</td>\n",
       "      <td>1991.0</td>\n",
       "      <td>Male</td>\n",
       "      <td>No</td>\n",
       "      <td>Evening</td>\n",
       "      <td>Morning</td>\n",
       "      <td>Wed</td>\n",
       "      <td>Thu</td>\n",
       "      <td>Jan</td>\n",
       "      <td>Feb</td>\n",
       "    </tr>\n",
       "  </tbody>\n",
       "</table>\n",
       "<p>5 rows × 22 columns</p>\n",
       "</div>"
      ],
      "text/plain": [
       "   duration_sec              start_time                end_time  \\\n",
       "0         75284 2018-01-31 22:52:35.239 2018-02-01 19:47:19.824   \n",
       "1         85422 2018-01-31 16:13:34.351 2018-02-01 15:57:17.310   \n",
       "2         71576 2018-01-31 14:23:55.889 2018-02-01 10:16:52.116   \n",
       "3         61076 2018-01-31 14:53:23.562 2018-02-01 07:51:20.500   \n",
       "4         39966 2018-01-31 19:52:24.667 2018-02-01 06:58:31.053   \n",
       "\n",
       "  start_station_id                                 start_station_name  \\\n",
       "0              120                               Mission Dolores Park   \n",
       "1               15  San Francisco Ferry Building (Harry Bridges Pl...   \n",
       "2              304                               Jackson St at 5th St   \n",
       "3               75                           Market St at Franklin St   \n",
       "4               74                              Laguna St at Hayes St   \n",
       "\n",
       "   start_station_latitude  start_station_longitude end_station_id  \\\n",
       "0               37.761420              -122.426435            285   \n",
       "1               37.795392              -122.394203             15   \n",
       "2               37.348759              -121.894798            296   \n",
       "3               37.773793              -122.421239             47   \n",
       "4               37.776435              -122.426244             19   \n",
       "\n",
       "                                    end_station_name  end_station_latitude  \\\n",
       "0                         Webster St at O'Farrell St             37.783521   \n",
       "1  San Francisco Ferry Building (Harry Bridges Pl...             37.795392   \n",
       "2                              5th St at Virginia St             37.325998   \n",
       "3                              4th St at Harrison St             37.780955   \n",
       "4                               Post St at Kearny St             37.788975   \n",
       "\n",
       "     ...      user_type member_birth_year member_gender  \\\n",
       "0    ...     Subscriber            1986.0          Male   \n",
       "1    ...       Customer               NaN           NaN   \n",
       "2    ...       Customer            1996.0          Male   \n",
       "3    ...       Customer               NaN           NaN   \n",
       "4    ...     Subscriber            1991.0          Male   \n",
       "\n",
       "   bike_share_for_all_trip start_part_of_day end_part_of_day  \\\n",
       "0                       No             Night         Evening   \n",
       "1                       No         Afternoon       Afternoon   \n",
       "2                       No         Afternoon         Morning   \n",
       "3                       No         Afternoon         Morning   \n",
       "4                       No           Evening         Morning   \n",
       "\n",
       "  start_day_of_week end_day_of_week start_month end_month  \n",
       "0               Wed             Thu         Jan       Feb  \n",
       "1               Wed             Thu         Jan       Feb  \n",
       "2               Wed             Thu         Jan       Feb  \n",
       "3               Wed             Thu         Jan       Feb  \n",
       "4               Wed             Thu         Jan       Feb  \n",
       "\n",
       "[5 rows x 22 columns]"
      ]
     },
     "execution_count": 164,
     "metadata": {},
     "output_type": "execute_result"
    }
   ],
   "source": [
    "trips_clean.head()"
   ]
  },
  {
   "cell_type": "markdown",
   "metadata": {},
   "source": [
    "### What is the structure of your dataset?\n",
    "\n",
    "There are 1,732,358 trips in the dataset with 16 features (duration_sec, start_time, end_time, start_station_id, start_station_name, start_station_latitude, start_station_longitude, end_station_id, end_station_name, end_station_latitude, end_station_longitude, bike_id, user_type, member_birth_year, member_gender, bike_share_for_all_trip). These variables includes following data types:\n",
    "\n",
    "*Numeric*: duration_sec, start_station_id, start_station_latitude, start_station_longitude, end_station_id, end_station_latitude, end_station_longitude, bike_id, member_birth_year<br>\n",
    "*String*: start_station_name, end_station_name<br>\n",
    "*Datetime*: start_time, end_time -> format: YYYY-mm-dd HH:MM:SS.ffff<br>\n",
    "*Categorical*: user_type(Subscriber, Customer), member_gender(Male, Female, Other)\n",
    "\n",
    "### What is/are the main feature(s) of interest in your dataset?\n",
    "\n",
    "* Average duration of trips.\n",
    "* Where are the places that people visit most.\n",
    "* When are most trips taken in terms of time of day, day of the week, or month of the year.\n",
    "* Does the above depend on if a user is a subscriber or customer?\n",
    "* Does the above depend on user's gender?\n",
    "\n",
    "### What features in the dataset do you think will help support your investigation into your feature(s) of interest?\n",
    "\n",
    "The start/end station names and the start/end latitude and longitude can help identify the most visited places.  \n",
    "The start/end time can help to get the busiest time/day when people use bikes.  \n",
    "The duration in second can help to calculate the average dueration of trips.  \n",
    "The gender and user type can help to check the existence of differences for above information.  \n"
   ]
  },
  {
   "cell_type": "markdown",
   "metadata": {},
   "source": [
    "## Univariate Exploration\n",
    "\n",
    "> In this section, investigate distributions of individual variables. If\n",
    "you see unusual points or outliers, take a deeper look to clean things up\n",
    "and prepare yourself to look at relationships between variables."
   ]
  },
  {
   "cell_type": "code",
   "execution_count": 166,
   "metadata": {
    "scrolled": false
   },
   "outputs": [
    {
     "data": {
      "image/png": "[encoded data removed]",
      "text/plain": [
       "<Figure size 576x360 with 1 Axes>"
      ]
     },
     "metadata": {},
     "output_type": "display_data"
    }
   ],
   "source": [
    "# Explore the duration of trips with a standard-scaled plot\n",
    "# Define bins by min and max values from the duration_sec and set bin size to 120\n",
    "dur_sec_bins = np.arange(trips_clean['duration_sec'].min(), trips_clean['duration_sec'].max()+120,120)\n",
    "# dur_min_bins = np.arange(trips_clean['duration_min'].min(), trips_clean['duration_min'].max()+2, 2)\n",
    "# dur_hour_bins = np.arange(trips_clean['duration_hour'].min(), trips_clean['duration_hour'].max()+0.1, 0.1)\n",
    "plt.figure(figsize=[8,5])\n",
    "plt.hist(data=trips_clean, x='duration_sec', bins=dur_sec_bins)\n",
    "plt.show()"
   ]
  },
  {
   "cell_type": "markdown",
   "metadata": {},
   "source": [
    "The above histogram shows the large skew and most data are located before 10000 seconds. Setting scale on x-axis will be done to better show the data distribution."
   ]
  },
  {
   "cell_type": "code",
   "execution_count": 169,
   "metadata": {
    "scrolled": false
   },
   "outputs": [
    {
     "data": {
      "image/png": "[encoded data removed]",
      "text/plain": [
       "<Figure size 432x288 with 1 Axes>"
      ]
     },
     "metadata": {},
     "output_type": "display_data"
    }
   ],
   "source": [
    "# Define the bins with log transformation\n",
    "dur_log_bins=10**np.arange(1.8, np.log10(trips_clbean['duration_sec'].max())+0.05, 0.05)\n",
    "plt.hist(data=trips_clean, x='duration_sec', bins=dur_log_bins)\n",
    "plt.xscale('log')\n",
    "# Set the x ticks and ticks' labels\n",
    "dur_log_ticks = [60, 100, 300, 1000, 3000, 10000, 30000, 100000]\n",
    "plt.xticks(dur_log_ticks, dur_log_ticks)\n",
    "plt.show()"
   ]
  },
  {
   "cell_type": "code",
   "execution_count": 209,
   "metadata": {},
   "outputs": [],
   "source": [
    "def sec_to_hour(x, inverse=False):\n",
    "    if not inverse:\n",
    "        return x/3600.0\n",
    "    else:\n",
    "        return x*3600"
   ]
  },
  {
   "cell_type": "code",
   "execution_count": 168,
   "metadata": {},
   "outputs": [
    {
     "data": {
      "text/plain": [
       "count    1.732358e+06\n",
       "mean     8.638863e+02\n",
       "std      2.410906e+03\n",
       "min      6.100000e+01\n",
       "25%      3.510000e+02\n",
       "50%      5.570000e+02\n",
       "75%      8.740000e+02\n",
       "max      8.636600e+04\n",
       "Name: duration_sec, dtype: float64"
      ]
     },
     "execution_count": 168,
     "metadata": {},
     "output_type": "execute_result"
    }
   ],
   "source": [
    "trips_clean['duration_sec'].describe()"
   ]
  },
  {
   "cell_type": "markdown",
   "metadata": {},
   "source": [
    "From above graph and statistic data, most of the trips continued from 60 to 10000 seconds, or 1 to 167 minutes. But there have some trips that continued more than 10000 seconds and they need a further investigate."
   ]
  },
  {
   "cell_type": "code",
   "execution_count": 172,
   "metadata": {},
   "outputs": [
    {
     "name": "stdout",
     "output_type": "stream",
     "text": [
      "4949\n",
      "1225\n",
      "582\n",
      "447\n",
      "1369\n"
     ]
    }
   ],
   "source": [
    "print(trips_clean.query('duration_sec>=10000 & duration_sec<20000').count()[0])\n",
    "print(trips_clean.query('duration_sec>=20000 & duration_sec<30000').count()[0])\n",
    "print(trips_clean.query('duration_sec>=30000 & duration_sec<40000').count()[0])\n",
    "print(trips_clean.query('duration_sec>=40000 & duration_sec<50000').count()[0])\n",
    "print(trips_clean.query('duration_sec>=50000').count()[0])"
   ]
  },
  {
   "cell_type": "code",
   "execution_count": 179,
   "metadata": {},
   "outputs": [
    {
     "data": {
      "text/plain": [
       "2399"
      ]
     },
     "execution_count": 179,
     "metadata": {},
     "output_type": "execute_result"
    }
   ],
   "source": [
    "trips.query('duration_sec>=30000').count()[0]"
   ]
  },
  {
   "cell_type": "code",
   "execution_count": 261,
   "metadata": {
    "scrolled": false
   },
   "outputs": [
    {
     "data": {
      "text/plain": [
       "Text(0,0.5,'Trip Number')"
      ]
     },
     "execution_count": 261,
     "metadata": {},
     "output_type": "execute_result"
    },
    {
     "data": {
      "image/png": "[encoded data removed]",
      "text/plain": [
       "<Figure size 576x864 with 3 Axes>"
      ]
     },
     "metadata": {},
     "output_type": "display_data"
    }
   ],
   "source": [
    "# Define the base color\n",
    "base_color = sb.color_palette()[0]\n",
    "# Explore the trip counts by part of day\n",
    "plt.figure(figsize=[8,12])\n",
    "plt.subplot(3, 1, 1)\n",
    "sb.countplot(data=trips_clean,x='start_hour',color=base_color)\n",
    "plt.xlabel('Time of Day')\n",
    "plt.ylabel('Trip Number')\n",
    "\n",
    "# Explore the trip counts by day of week\n",
    "plt.subplot(3, 1, 2)\n",
    "sb.countplot(data=trips_clean,x='start_day_of_week',color=base_color)\n",
    "plt.xlabel('Day of Week')\n",
    "plt.ylabel('Trip Number')\n",
    "\n",
    "# Explore the trip counts by month of year\n",
    "plt.subplot(3, 1, 3)\n",
    "sb.countplot(data=trips_clean,x='start_month',color=base_color)\n",
    "plt.xlabel('Month')\n",
    "plt.ylabel('Trip Number')"
   ]
  },
  {
   "cell_type": "markdown",
   "metadata": {},
   "source": [
    "From above graphs we can get: \n",
    "Most trips are taken from 6AM to 10PM.  \n",
    "Most trips are taken on workdays(Mon-Fri). Less trips are taken on the weekends may because people have reset on weekends.  \n",
    "The bike sharing is active from May to October. That can be as the results of whether as those months have warm whether."
   ]
  },
  {
   "cell_type": "code",
   "execution_count": 175,
   "metadata": {
    "scrolled": false
   },
   "outputs": [
    {
     "data": {
      "image/png": "[encoded data removed]",
      "text/plain": [
       "<Figure size 360x432 with 2 Axes>"
      ]
     },
     "metadata": {},
     "output_type": "display_data"
    }
   ],
   "source": [
    "# Explore the trip counts by user type \n",
    "plt.figure(figsize=[5, 6])\n",
    "plt.subplot(2, 1, 1)\n",
    "sb.countplot(data=trips_clean, x='user_type')\n",
    "plt.xlabel('User Type')\n",
    "plt.ylabel('Trip Number')\n",
    "\n",
    "# Explore the trip counts by member's gender\n",
    "plt.subplot(2, 1, 2)\n",
    "sb.countplot(data=trips_clean, x='member_gender')\n",
    "plt.xlabel(\"Member's Gender\")\n",
    "plt.ylabel('Trip Number')\n",
    "plt.show()"
   ]
  },
  {
   "cell_type": "markdown",
   "metadata": {},
   "source": [
    "The above plot shows that the member(Subscriber) of this system have a absolute number advantages compared with unrgistered user."
   ]
  },
  {
   "cell_type": "code",
   "execution_count": 51,
   "metadata": {},
   "outputs": [
    {
     "data": {
      "text/plain": [
       "(array([ 0,  1,  2,  3,  4,  5,  6,  7,  8,  9, 10, 11, 12, 13, 14, 15, 16,\n",
       "        17, 18, 19, 20, 21, 22, 23, 24, 25, 26, 27, 28, 29, 30, 31, 32, 33,\n",
       "        34, 35, 36, 37, 38, 39, 40, 41, 42, 43, 44, 45, 46, 47, 48, 49, 50,\n",
       "        51, 52, 53, 54, 55, 56, 57, 58, 59, 60, 61, 62, 63, 64, 65, 66, 67,\n",
       "        68, 69, 70, 71, 72, 73, 74, 75, 76, 77, 78, 79, 80, 81, 82, 83, 84]),\n",
       " <a list of 85 Text xticklabel objects>)"
      ]
     },
     "execution_count": 51,
     "metadata": {},
     "output_type": "execute_result"
    },
    {
     "data": {
      "image/png": "[encoded data removed]",
      "text/plain": [
       "<Figure size 576x360 with 1 Axes>"
      ]
     },
     "metadata": {},
     "output_type": "display_data"
    }
   ],
   "source": [
    "plt.figure(figsize=[8,5])\n",
    "sb.countplot(data=trips_clean, x='member_birth_year')\n",
    "plt.xlabel(\"Member's Birth Year\")\n",
    "plt.ylabel('Trip Number')\n",
    "plt.xticks(label=['{:.0f}'.format(v) for v in trips['member_birth_year'].value_counts().index.tolist()], rotation=90)"
   ]
  },
  {
   "cell_type": "markdown",
   "metadata": {},
   "source": [
    "The above plot shows that the male members have a absolute advantages on usages of this system compared with female and other members."
   ]
  },
  {
   "cell_type": "markdown",
   "metadata": {},
   "source": [
    "> Make sure that, after every plot or related series of plots, that you\n",
    "include a Markdown cell with comments about what you observed, and what\n",
    "you plan on investigating next."
   ]
  },
  {
   "cell_type": "code",
   "execution_count": null,
   "metadata": {},
   "outputs": [],
   "source": []
  },
  {
   "cell_type": "markdown",
   "metadata": {},
   "source": [
    "### Discuss the distribution(s) of your variable(s) of interest. Were there any unusual points? Did you need to perform any transformations?\n",
    "\n",
    "The duration_sec variable have some records that are more than 10000 seconds(2.7 hours). New column is added to calculate the true duration and check the distribution again.\n",
    "\n",
    "The duaration distribution is limited in a large range, so a log transform is introduced to generate the histogram. After the transformation, the duration is likely follow a normal distribution.\n",
    "\n",
    "Other categorical variables (part_of_day, day_of_week, month, user_type and gender) count plot are also explored to show relationship between trips number and each variable.\n",
    "\n",
    "### Of the features you investigated, were there any unusual distributions? Did you perform any operations on the data to tidy, adjust, or change the form of the data? If so, why did you do this?\n",
    "\n",
    "Following tidiness operations are done:\n",
    "* Convert the start_time and end_time to datetime type in order to get other (part_of_day, day_of_week, month) information.\n",
    "* Convert the user_type and member_gender to categorical type.\n",
    "* Convert the id columns (bike_id, start_station_id, end_station_id) to string type.\n",
    "* Add new column 'calc_dur_sec' to compute the true time duration in seconds.\n",
    "* Add new columns 'start_part_of_day', 'end_part_of_day' to get the corresponding part of day (e.g. Morning, Afternoon, Evening and Night) and set the valuse as the ordial data type.\n",
    "* Add new columns 'start_day_of_week', 'end_day_of_week' to get the corresponding day of week (e.g. Mon - Sun) and set the valuse as the ordial data type.\n",
    "* Add new columns 'start_month', 'end_month' to get the corresponding month of trips and set the valuse as the ordial data type."
   ]
  },
  {
   "cell_type": "markdown",
   "metadata": {},
   "source": [
    "## Bivariate Exploration\n",
    "\n",
    "> In this section, investigate relationships between pairs of variables in your\n",
    "data. Make sure the variables that you cover here have been introduced in some\n",
    "fashion in the previous section (univariate exploration)."
   ]
  },
  {
   "cell_type": "markdown",
   "metadata": {},
   "source": [
    "part_of_day, duration\n",
    "day_of_week, duration\n",
    "month, duration\n",
    "\n",
    "user_type, duration\n",
    "gender, duration\n",
    "\n",
    "part_of_day, user_type\n",
    "day_of_week, user_type\n",
    "month, user_type\n",
    "\n",
    "part_of_day, gender\n",
    "day_of_week, gender\n",
    "month, gender"
   ]
  },
  {
   "cell_type": "code",
   "execution_count": 190,
   "metadata": {
    "scrolled": true
   },
   "outputs": [
    {
     "data": {
      "text/plain": [
       "count    1.732358e+06\n",
       "mean     8.638863e+02\n",
       "std      2.410906e+03\n",
       "min      6.100000e+01\n",
       "25%      3.510000e+02\n",
       "50%      5.570000e+02\n",
       "75%      8.740000e+02\n",
       "max      8.636600e+04\n",
       "Name: duration_sec, dtype: float64"
      ]
     },
     "execution_count": 190,
     "metadata": {},
     "output_type": "execute_result"
    }
   ],
   "source": [
    "trips_clean.duration_sec.describe()"
   ]
  },
  {
   "cell_type": "markdown",
   "metadata": {},
   "source": [
    "The relationship between duration and time variables(Part of Day, Day of Week, Month of Year)"
   ]
  },
  {
   "cell_type": "code",
   "execution_count": 262,
   "metadata": {
    "scrolled": false
   },
   "outputs": [
    {
     "data": {
      "image/png": "[encoded data removed]",
      "text/plain": [
       "<Figure size 648x864 with 3 Axes>"
      ]
     },
     "metadata": {},
     "output_type": "display_data"
    }
   ],
   "source": [
    "plt.figure(figsize=[9,12])\n",
    "# Explore the part of day and the duration\n",
    "plt.subplot(3,1,1)\n",
    "sb.boxplot(data=trips_clean, x='start_hour', y='duration_sec', color=base_color)\n",
    "plt.yscale('log')\n",
    "plt.yticks(dur_log_ticks,dur_log_ticks)\n",
    "plt.xlabel('Time of Day')\n",
    "# Explore the day of week and the duration\n",
    "plt.subplot(3,1,2)\n",
    "sb.boxplot(data=trips_clean, x='start_day_of_week', y='duration_sec', color=base_color)\n",
    "plt.yscale('log')\n",
    "plt.yticks(dur_log_ticks,dur_log_ticks)\n",
    "plt.xlabel('Day of Week')\n",
    "# Explore the month of year and the duration\n",
    "plt.subplot(3,1,3)\n",
    "sb.boxplot(data=trips_clean, x='start_month', y='duration_sec', color=base_color)\n",
    "plt.yscale('log')\n",
    "plt.yticks(dur_log_ticks,dur_log_ticks)\n",
    "plt.xlabel('Month of Year')\n",
    "\n",
    "plt.show()"
   ]
  },
  {
   "cell_type": "markdown",
   "metadata": {},
   "source": [
    "The relationship between duration and user_type and gender"
   ]
  },
  {
   "cell_type": "code",
   "execution_count": 227,
   "metadata": {},
   "outputs": [
    {
     "data": {
      "image/png": "[encoded data removed]",
      "text/plain": [
       "<Figure size 360x576 with 2 Axes>"
      ]
     },
     "metadata": {},
     "output_type": "display_data"
    }
   ],
   "source": [
    "plt.figure(figsize=[5,8])\n",
    "# Explore the user type and the duration\n",
    "plt.subplot(2,1,1)\n",
    "sb.boxplot(data=trips_clean, x='user_type', y='duration_sec', color=base_color)\n",
    "plt.yscale('log')\n",
    "plt.yticks(dur_log_ticks,dur_log_ticks)\n",
    "# Explore the member gender and the duration\n",
    "plt.subplot(2,1,2)\n",
    "sb.boxplot(data=trips_clean, x='member_gender', y='duration_sec', color=base_color)\n",
    "plt.yscale('log')\n",
    "plt.yticks(dur_log_ticks,dur_log_ticks)\n",
    "plt.show()"
   ]
  },
  {
   "cell_type": "markdown",
   "metadata": {},
   "source": [
    "Explore the trip number taken by different time sections(part_of_day, day_of_week, month) for different user types."
   ]
  },
  {
   "cell_type": "code",
   "execution_count": 263,
   "metadata": {
    "scrolled": false
   },
   "outputs": [
    {
     "data": {
      "image/png": "[encoded data removed]",
      "text/plain": [
       "<Figure size 576x720 with 3 Axes>"
      ]
     },
     "metadata": {},
     "output_type": "display_data"
    }
   ],
   "source": [
    "plt.figure(figsize=[8,10])\n",
    "plt.subplot(3,1,1)\n",
    "ax = sb.countplot(data=trips_clean, x='start_hour', hue='user_type')\n",
    "plt.subplot(3,1,2)\n",
    "ax = sb.countplot(data=trips_clean, x='start_day_of_week', hue='user_type')\n",
    "plt.subplot(3,1,3)\n",
    "ax = sb.countplot(data=trips_clean, x='start_month', hue='user_type')\n"
   ]
  },
  {
   "cell_type": "markdown",
   "metadata": {},
   "source": [
    "Explore the trip number taken by different time sections(part_of_day, day_of_week, month) for different member genders."
   ]
  },
  {
   "cell_type": "code",
   "execution_count": 264,
   "metadata": {},
   "outputs": [
    {
     "data": {
      "image/png": "[encoded data removed]",
      "text/plain": [
       "<Figure size 576x720 with 3 Axes>"
      ]
     },
     "metadata": {},
     "output_type": "display_data"
    }
   ],
   "source": [
    "plt.figure(figsize=[8,10])\n",
    "plt.subplot(3,1,1)\n",
    "ax = sb.countplot(data=trips_clean, x='start_hour', hue='member_gender')\n",
    "plt.subplot(3,1,2)\n",
    "ax = sb.countplot(data=trips_clean, x='start_day_of_week', hue='member_gender')\n",
    "plt.subplot(3,1,3)\n",
    "ax = sb.countplot(data=trips_clean, x='start_month', hue='member_gender')"
   ]
  },
  {
   "cell_type": "markdown",
   "metadata": {},
   "source": [
    "### Talk about some of the relationships you observed in this part of the investigation. How did the feature(s) of interest vary with other features in the dataset?\n",
    "\n",
    "From the graphs about relationship between duration and each temporal categorical variables (time of day, day of week, month of year), we can have the consulsions:\n",
    "* The longest mean duration is happened on 2PM and 3PM.\n",
    "* The mean durations at the weekends are the longest compared to other weekdays. Seem that people would like to spend more time on weekends.\n",
    "* The September has the longest mean duration, which is consistence with the univarable exploration.\n",
    "\n",
    "From the graphs about relationship between duration and user types and gender:\n",
    "* The Customer(Casual) have a longer mean trip duration than Subscriber(Member).\n",
    "* The female have the longest mean trip duration compared to male and other.\n",
    "\n",
    "From the graphs that dipect raltionship between the temporal categorical variables (tim of day, day of week, month of year) and user types, conclusiona are shown below:\n",
    "* Most trips are taken in the 8AM-9AM and 5PM-6PM for the subscriber. And for customer, most trips are taken around 5PM.\n",
    "* For subscriber, more trips are taken at the weekdays, while there are more trips at the weekends for customer user.\n",
    "* For subscriber, more trips are taken on October, while July is the month that has more trips for customer.\n",
    "\n",
    "From the graphs about relationship between trips numbers and genders, they are consistence with the above conclusion without much difference on gender.\n",
    "\n",
    "\n",
    "### Did you observe any interesting relationships between the other features (not the main feature(s) of interest)?\n",
    "\n",
    "> Your answer here!"
   ]
  },
  {
   "cell_type": "markdown",
   "metadata": {},
   "source": [
    "## Multivariate Exploration\n",
    "\n",
    "> Create plots of three or more variables to investigate your data even\n",
    "further. Make sure that your investigations are justified, and follow from\n",
    "your work in the previous sections."
   ]
  },
  {
   "cell_type": "code",
   "execution_count": null,
   "metadata": {},
   "outputs": [],
   "source": []
  },
  {
   "cell_type": "markdown",
   "metadata": {},
   "source": [
    "### Talk about some of the relationships you observed in this part of the investigation. Were there features that strengthened each other in terms of looking at your feature(s) of interest?\n",
    "\n",
    "> Your answer here!\n",
    "\n",
    "### Were there any interesting or surprising interactions between features?\n",
    "\n",
    "> Your answer here!"
   ]
  },
  {
   "cell_type": "markdown",
   "metadata": {},
   "source": [
    "> At the end of your report, make sure that you export the notebook as an\n",
    "html file from the `File > Download as... > HTML` menu. Make sure you keep\n",
    "track of where the exported file goes, so you can put it in the same folder\n",
    "as this notebook for project submission. Also, make sure you remove all of\n",
    "the quote-formatted guide notes like this one before you finish your report!"
   ]
  },
  {
   "cell_type": "code",
   "execution_count": null,
   "metadata": {},
   "outputs": [],
   "source": []
  }
 ],
 "metadata": {
  "kernelspec": {
   "display_name": "Python [default]",
   "language": "python",
   "name": "python3"
  },
  "language_info": {
   "codemirror_mode": {
    "name": "ipython",
    "version": 3
   },
   "file_extension": ".py",
   "mimetype": "text/x-python",
   "name": "python",
   "nbconvert_exporter": "python",
   "pygments_lexer": "ipython3",
   "version": "3.6.6"
  }
 },
 "nbformat": 4,
 "nbformat_minor": 2
}
